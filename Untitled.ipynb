{
 "cells": [
  {
   "cell_type": "code",
   "execution_count": 1,
   "id": "c254a344",
   "metadata": {},
   "outputs": [
    {
     "name": "stdout",
     "output_type": "stream",
     "text": [
      "Dataset saved to sales_data.csv\n"
     ]
    }
   ],
   "source": [
    "import pandas as pd\n",
    "import numpy as np\n",
    "import random\n",
    "\n",
    "# Define the number of rows for the dataset\n",
    "num_rows = 500\n",
    "\n",
    "# Generate synthetic data\n",
    "np.random.seed(42)  # For reproducibility\n",
    "order_dates = pd.date_range(start=\"2023-01-01\", end=\"2024-01-01\", periods=num_rows)\n",
    "regions = random.choices([\"North\", \"South\", \"East\", \"West\"], k=num_rows)\n",
    "states = random.choices(\n",
    "    [\n",
    "        \"California\", \"Texas\", \"Florida\", \"New York\", \"Illinois\", \n",
    "        \"Ohio\", \"Georgia\", \"Michigan\", \"Virginia\", \"North Carolina\"\n",
    "    ], \n",
    "    k=num_rows\n",
    ")\n",
    "categories = random.choices([\"Electronics\", \"Furniture\", \"Clothing\", \"Groceries\"], k=num_rows)\n",
    "sub_categories = [\n",
    "    random.choice(\n",
    "        [\"Laptops\", \"Phones\", \"Chairs\", \"Desks\", \"Shirts\", \"Pants\", \"Milk\", \"Bread\"]\n",
    "    ) for _ in range(num_rows)\n",
    "]\n",
    "sales = np.random.randint(100, 1000, num_rows)\n",
    "discounts = np.random.randint(5, 25, num_rows)\n",
    "revenue = sales - (sales * discounts / 100)\n",
    "\n",
    "# Create DataFrame\n",
    "data = {\n",
    "    \"Order Date\": order_dates,\n",
    "    \"Region\": regions,\n",
    "    \"State\": states,\n",
    "    \"Category\": categories,\n",
    "    \"Sub-Category\": sub_categories,\n",
    "    \"Sales\": sales,\n",
    "    \"Discount (%)\": discounts,\n",
    "    \"Revenue\": revenue.round(2)\n",
    "}\n",
    "\n",
    "sales_data = pd.DataFrame(data)\n",
    "\n",
    "# Save to a CSV file\n",
    "file_path = \"sales_data.csv\"\n",
    "sales_data.to_csv(file_path, index=False)\n",
    "print(f\"Dataset saved to {file_path}\")\n"
   ]
  },
  {
   "cell_type": "code",
   "execution_count": 11,
   "id": "f7695c3e",
   "metadata": {},
   "outputs": [
    {
     "name": "stdout",
     "output_type": "stream",
     "text": [
      "<class 'pandas.core.frame.DataFrame'>\n",
      "RangeIndex: 500 entries, 0 to 499\n",
      "Data columns (total 8 columns):\n",
      " #   Column        Non-Null Count  Dtype  \n",
      "---  ------        --------------  -----  \n",
      " 0   Order Date    500 non-null    object \n",
      " 1   Region        500 non-null    object \n",
      " 2   State         500 non-null    object \n",
      " 3   Category      500 non-null    object \n",
      " 4   Sub-Category  500 non-null    object \n",
      " 5   Sales         500 non-null    int64  \n",
      " 6   Discount (%)  500 non-null    int64  \n",
      " 7   Revenue       500 non-null    float64\n",
      "dtypes: float64(1), int64(2), object(5)\n",
      "memory usage: 31.4+ KB\n",
      "None\n",
      "                      Order Date Region     State     Category Sub-Category  \\\n",
      "0  2023-01-01 00:00:00.000000000   East   Georgia    Furniture        Desks   \n",
      "1  2023-01-01 17:33:18.396793587  North  Michigan  Electronics       Shirts   \n",
      "2  2023-01-02 11:06:36.793587174   West      Ohio     Clothing       Phones   \n",
      "3  2023-01-03 04:39:55.190380761  South  Illinois    Furniture       Shirts   \n",
      "4  2023-01-03 22:13:13.587174348   West  New York    Groceries        Desks   \n",
      "\n",
      "   Sales  Discount (%)  Revenue  \n",
      "0    202            23   155.54  \n",
      "1    535            21   422.65  \n",
      "2    960            24   729.60  \n",
      "3    370            14   318.20  \n",
      "4    206            10   185.40  \n"
     ]
    }
   ],
   "source": [
    "import pandas as pd\n",
    "\n",
    "# Correct file path for macOS\n",
    "file_path = \"/Users/praveen/Desktop/PORTFOLIO PROJECT/PP1/sales_data.csv\"\n",
    "\n",
    "# Load the dataset\n",
    "data = pd.read_csv(file_path)\n",
    "\n",
    "# Inspect the dataset\n",
    "print(data.info())  # Display dataset structure\n",
    "print(data.head())  # Display the first 5 rows\n"
   ]
  },
  {
   "cell_type": "code",
   "execution_count": 12,
   "id": "8a84c2ee",
   "metadata": {},
   "outputs": [
    {
     "name": "stdout",
     "output_type": "stream",
     "text": [
      "Number of duplicates after removal: 0\n"
     ]
    }
   ],
   "source": [
    "# Remove duplicate rows\n",
    "data = data.drop_duplicates()\n",
    "\n",
    "# Check for duplicates\n",
    "print(f\"Number of duplicates after removal: {data.duplicated().sum()}\")\n"
   ]
  },
  {
   "cell_type": "code",
   "execution_count": 13,
   "id": "18ccf598",
   "metadata": {},
   "outputs": [
    {
     "name": "stdout",
     "output_type": "stream",
     "text": [
      "Number of invalid dates: 0\n"
     ]
    }
   ],
   "source": [
    "# Convert 'Order Date' to datetime\n",
    "data['Order Date'] = pd.to_datetime(data['Order Date'], errors='coerce')\n",
    "\n",
    "# Check for invalid dates\n",
    "invalid_dates = data['Order Date'].isnull().sum()\n",
    "print(f\"Number of invalid dates: {invalid_dates}\")\n",
    "\n",
    "# Drop rows with invalid dates (optional)\n",
    "data = data.dropna(subset=['Order Date'])\n"
   ]
  },
  {
   "cell_type": "code",
   "execution_count": 14,
   "id": "62581705",
   "metadata": {},
   "outputs": [],
   "source": [
    "# Create Year-Month field\n",
    "data['YearMonth'] = data['Order Date'].dt.to_period('M')\n"
   ]
  },
  {
   "cell_type": "code",
   "execution_count": 15,
   "id": "891ddaf7",
   "metadata": {},
   "outputs": [],
   "source": [
    "# Calculate Profit Margin\n",
    "data['Profit Margin (%)'] = ((data['Revenue'] - data['Sales']) / data['Sales']) * 100\n",
    "data['Profit Margin (%)'] = data['Profit Margin (%)'].round(2)  # Round to 2 decimal places\n"
   ]
  },
  {
   "cell_type": "code",
   "execution_count": 16,
   "id": "94674b06",
   "metadata": {},
   "outputs": [
    {
     "name": "stdout",
     "output_type": "stream",
     "text": [
      "Cleaned data saved to /Users/praveen/Desktop/PORTFOLIO PROJECT/PP1/cleaned_sales_data.csv\n"
     ]
    }
   ],
   "source": [
    "# Save cleaned data to a new CSV file\n",
    "cleaned_file_path = \"/Users/praveen/Desktop/PORTFOLIO PROJECT/PP1/cleaned_sales_data.csv\"\n",
    "data.to_csv(cleaned_file_path, index=False)\n",
    "\n",
    "print(f\"Cleaned data saved to {cleaned_file_path}\")\n"
   ]
  },
  {
   "cell_type": "code",
   "execution_count": 17,
   "id": "606a3d51",
   "metadata": {},
   "outputs": [
    {
     "name": "stdout",
     "output_type": "stream",
     "text": [
      "<class 'pandas.core.frame.DataFrame'>\n",
      "Int64Index: 500 entries, 0 to 499\n",
      "Data columns (total 10 columns):\n",
      " #   Column             Non-Null Count  Dtype         \n",
      "---  ------             --------------  -----         \n",
      " 0   Order Date         500 non-null    datetime64[ns]\n",
      " 1   Region             500 non-null    object        \n",
      " 2   State              500 non-null    object        \n",
      " 3   Category           500 non-null    object        \n",
      " 4   Sub-Category       500 non-null    object        \n",
      " 5   Sales              500 non-null    int64         \n",
      " 6   Discount (%)       500 non-null    int64         \n",
      " 7   Revenue            500 non-null    float64       \n",
      " 8   YearMonth          500 non-null    period[M]     \n",
      " 9   Profit Margin (%)  500 non-null    float64       \n",
      "dtypes: datetime64[ns](1), float64(2), int64(2), object(4), period[M](1)\n",
      "memory usage: 43.0+ KB\n",
      "None\n",
      "                     Order Date Region     State     Category Sub-Category  \\\n",
      "0 2023-01-01 00:00:00.000000000   East   Georgia    Furniture        Desks   \n",
      "1 2023-01-01 17:33:18.396793587  North  Michigan  Electronics       Shirts   \n",
      "2 2023-01-02 11:06:36.793587174   West      Ohio     Clothing       Phones   \n",
      "3 2023-01-03 04:39:55.190380761  South  Illinois    Furniture       Shirts   \n",
      "4 2023-01-03 22:13:13.587174348   West  New York    Groceries        Desks   \n",
      "\n",
      "   Sales  Discount (%)  Revenue YearMonth  Profit Margin (%)  \n",
      "0    202            23   155.54   2023-01              -23.0  \n",
      "1    535            21   422.65   2023-01              -21.0  \n",
      "2    960            24   729.60   2023-01              -24.0  \n",
      "3    370            14   318.20   2023-01              -14.0  \n",
      "4    206            10   185.40   2023-01              -10.0  \n"
     ]
    }
   ],
   "source": [
    "print(data.info())  # Display structure and data types\n",
    "print(data.head())  # Display first few rows\n"
   ]
  },
  {
   "cell_type": "code",
   "execution_count": null,
   "id": "bc7efdc4",
   "metadata": {},
   "outputs": [],
   "source": []
  }
 ],
 "metadata": {
  "kernelspec": {
   "display_name": "Python 3 (ipykernel)",
   "language": "python",
   "name": "python3"
  },
  "language_info": {
   "codemirror_mode": {
    "name": "ipython",
    "version": 3
   },
   "file_extension": ".py",
   "mimetype": "text/x-python",
   "name": "python",
   "nbconvert_exporter": "python",
   "pygments_lexer": "ipython3",
   "version": "3.11.4"
  }
 },
 "nbformat": 4,
 "nbformat_minor": 5
}
